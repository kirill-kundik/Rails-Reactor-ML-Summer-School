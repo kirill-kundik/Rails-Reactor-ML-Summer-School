{
 "cells": [
  {
   "cell_type": "code",
   "execution_count": 1,
   "metadata": {},
   "outputs": [],
   "source": [
    "import pandas as pd\n",
    "import matplotlib.pyplot as plt\n",
    "import seaborn as sns\n",
    "%matplotlib inline \n",
    "\n",
    "df = pd.read_csv('/Users/kyrylo_kundik/downloads/stations_2019_g.csv', sep=';', keep_default_na=False)\n"
   ]
  },
  {
   "cell_type": "code",
   "execution_count": 2,
   "metadata": {},
   "outputs": [
    {
     "data": {
      "text/html": [
       "<div>\n",
       "<style scoped>\n",
       "    .dataframe tbody tr th:only-of-type {\n",
       "        vertical-align: middle;\n",
       "    }\n",
       "\n",
       "    .dataframe tbody tr th {\n",
       "        vertical-align: top;\n",
       "    }\n",
       "\n",
       "    .dataframe thead th {\n",
       "        text-align: right;\n",
       "    }\n",
       "</style>\n",
       "<table border=\"1\" class=\"dataframe\">\n",
       "  <thead>\n",
       "    <tr style=\"text-align: right;\">\n",
       "      <th></th>\n",
       "      <th>region</th>\n",
       "      <th>tik</th>\n",
       "      <th>tikId</th>\n",
       "      <th>uik</th>\n",
       "      <th>address</th>\n",
       "      <th>center</th>\n",
       "      <th>city</th>\n",
       "      <th>lat</th>\n",
       "      <th>lon</th>\n",
       "    </tr>\n",
       "  </thead>\n",
       "  <tbody>\n",
       "    <tr>\n",
       "      <th>0</th>\n",
       "      <td>Вінницька область</td>\n",
       "      <td>ТВО №11</td>\n",
       "      <td>11</td>\n",
       "      <td>ТВО №11</td>\n",
       "      <td>просп. Космонавтів, 30, м. Вінниця, 21021</td>\n",
       "      <td>місто Вінниця</td>\n",
       "      <td></td>\n",
       "      <td>49.226887</td>\n",
       "      <td>28.419426</td>\n",
       "    </tr>\n",
       "    <tr>\n",
       "      <th>1</th>\n",
       "      <td>Вінницька область</td>\n",
       "      <td>ТВО №11</td>\n",
       "      <td>11</td>\n",
       "      <td>ВД № 050130</td>\n",
       "      <td>вул.40-річчя Перемоги, 3, смт Стрижавка, Вінни...</td>\n",
       "      <td></td>\n",
       "      <td></td>\n",
       "      <td>49.30636127</td>\n",
       "      <td>28.46846001</td>\n",
       "    </tr>\n",
       "    <tr>\n",
       "      <th>2</th>\n",
       "      <td>Вінницька область</td>\n",
       "      <td>ТВО №11</td>\n",
       "      <td>11</td>\n",
       "      <td>ВД № 050131</td>\n",
       "      <td>вул.Алеї, 58, смт Стрижавка, Вінницький р-н, В...</td>\n",
       "      <td></td>\n",
       "      <td></td>\n",
       "      <td>49.30805497</td>\n",
       "      <td>28.47184052</td>\n",
       "    </tr>\n",
       "    <tr>\n",
       "      <th>3</th>\n",
       "      <td>Вінницька область</td>\n",
       "      <td>ТВО №11</td>\n",
       "      <td>11</td>\n",
       "      <td>ВД № 050132</td>\n",
       "      <td>вул.Приміська, 14, смт Стрижавка, Вінницький р...</td>\n",
       "      <td></td>\n",
       "      <td></td>\n",
       "      <td>49.31060584</td>\n",
       "      <td>28.47266341</td>\n",
       "    </tr>\n",
       "    <tr>\n",
       "      <th>4</th>\n",
       "      <td>Вінницька область</td>\n",
       "      <td>ТВО №11</td>\n",
       "      <td>11</td>\n",
       "      <td>ВД № 050133</td>\n",
       "      <td>вул.Київська, 172, смт Стрижавка, Вінницький р...</td>\n",
       "      <td></td>\n",
       "      <td></td>\n",
       "      <td>49.30428285</td>\n",
       "      <td>28.48287226</td>\n",
       "    </tr>\n",
       "  </tbody>\n",
       "</table>\n",
       "</div>"
      ],
      "text/plain": [
       "              region      tik tikId          uik  \\\n",
       "0  Вінницька область  ТВО №11    11      ТВО №11   \n",
       "1  Вінницька область  ТВО №11    11  ВД № 050130   \n",
       "2  Вінницька область  ТВО №11    11  ВД № 050131   \n",
       "3  Вінницька область  ТВО №11    11  ВД № 050132   \n",
       "4  Вінницька область  ТВО №11    11  ВД № 050133   \n",
       "\n",
       "                                             address         center city  \\\n",
       "0          просп. Космонавтів, 30, м. Вінниця, 21021  місто Вінниця        \n",
       "1  вул.40-річчя Перемоги, 3, смт Стрижавка, Вінни...                       \n",
       "2  вул.Алеї, 58, смт Стрижавка, Вінницький р-н, В...                       \n",
       "3  вул.Приміська, 14, смт Стрижавка, Вінницький р...                       \n",
       "4  вул.Київська, 172, смт Стрижавка, Вінницький р...                       \n",
       "\n",
       "           lat          lon  \n",
       "0    49.226887    28.419426  \n",
       "1  49.30636127  28.46846001  \n",
       "2  49.30805497  28.47184052  \n",
       "3  49.31060584  28.47266341  \n",
       "4  49.30428285  28.48287226  "
      ]
     },
     "execution_count": 2,
     "metadata": {},
     "output_type": "execute_result"
    }
   ],
   "source": [
    "df.head()"
   ]
  },
  {
   "cell_type": "code",
   "execution_count": 3,
   "metadata": {},
   "outputs": [
    {
     "data": {
      "text/plain": [
       "(30737, 9)"
      ]
     },
     "execution_count": 3,
     "metadata": {},
     "output_type": "execute_result"
    }
   ],
   "source": [
    "df.shape"
   ]
  },
  {
   "cell_type": "code",
   "execution_count": 4,
   "metadata": {},
   "outputs": [],
   "source": [
    "df2 = pd.read_csv('/Users/kyrylo_kundik/downloads/parliamentary_2019_scraped_2019_07_26_21_49.csv', sep=';', keep_default_na=False)"
   ]
  },
  {
   "cell_type": "code",
   "execution_count": 10,
   "metadata": {},
   "outputs": [
    {
     "data": {
      "text/plain": [
       "Index(['tikId', 'uik', 'voters', 'allVotes', 'totalVotes', 'ОПОЗИЦІЙНИЙ_БЛОК',\n",
       "       'СИЛА_І_ЧЕСТЬ', 'Батьківщина', 'ПАТРІОТ', 'Сила_Людей',\n",
       "       'ОПОЗИЦІЙНА_ПЛАТФОРМА', 'ПАРТІЯ_ЗЕЛЕНИХ_УКРАЇНИ', 'ФАКЕЛ', 'САМОПОМІЧ',\n",
       "       'Європейська_Солідарність', 'УКРАЇНСЬКА_СТРАТЕГІЯ_ГРОЙСМАНА',\n",
       "       'Громадянська_позиція', 'СОЦІАЛЬНА_СПРАВЕДЛИВІСТЬ', 'СЛУГА_НАРОДУ',\n",
       "       'СИЛА_ПРАВА', 'РАДИКАЛЬНА_ПАРТІЯ_ОЛЕГА_ЛЯШКА', 'ПАРТІЯ_ШАРІЯ', 'ГОЛОС',\n",
       "       'НЕЗАЛЕЖНІСТЬ', 'Аграрна_партія_України', 'Свобода',\n",
       "       'Рух_Нових_Сил_Михайла_Саакашвілі'],\n",
       "      dtype='object')"
      ]
     },
     "execution_count": 10,
     "metadata": {},
     "output_type": "execute_result"
    }
   ],
   "source": [
    "df2.columns"
   ]
  },
  {
   "cell_type": "code",
   "execution_count": 6,
   "metadata": {},
   "outputs": [
    {
     "data": {
      "text/plain": [
       "(29885, 27)"
      ]
     },
     "execution_count": 6,
     "metadata": {},
     "output_type": "execute_result"
    }
   ],
   "source": [
    "df2.shape"
   ]
  },
  {
   "cell_type": "code",
   "execution_count": 11,
   "metadata": {},
   "outputs": [],
   "source": [
    "df2.drop(['ОПОЗИЦІЙНИЙ_БЛОК',\n",
    "       'СИЛА_І_ЧЕСТЬ', 'Батьківщина', 'ПАТРІОТ', 'Сила_Людей',\n",
    "       'ОПОЗИЦІЙНА_ПЛАТФОРМА', 'ПАРТІЯ_ЗЕЛЕНИХ_УКРАЇНИ', 'ФАКЕЛ', 'САМОПОМІЧ', 'УКРАЇНСЬКА_СТРАТЕГІЯ_ГРОЙСМАНА',\n",
    "       'Громадянська_позиція', 'СОЦІАЛЬНА_СПРАВЕДЛИВІСТЬ', 'СЛУГА_НАРОДУ',\n",
    "       'СИЛА_ПРАВА', 'РАДИКАЛЬНА_ПАРТІЯ_ОЛЕГА_ЛЯШКА', 'ПАРТІЯ_ШАРІЯ', 'ГОЛОС',\n",
    "       'НЕЗАЛЕЖНІСТЬ', 'Аграрна_партія_України', 'Свобода',\n",
    "       'Рух_Нових_Сил_Михайла_Саакашвілі'], axis=1, inplace=True)"
   ]
  },
  {
   "cell_type": "code",
   "execution_count": 13,
   "metadata": {},
   "outputs": [
    {
     "data": {
      "text/html": [
       "<div>\n",
       "<style scoped>\n",
       "    .dataframe tbody tr th:only-of-type {\n",
       "        vertical-align: middle;\n",
       "    }\n",
       "\n",
       "    .dataframe tbody tr th {\n",
       "        vertical-align: top;\n",
       "    }\n",
       "\n",
       "    .dataframe thead th {\n",
       "        text-align: right;\n",
       "    }\n",
       "</style>\n",
       "<table border=\"1\" class=\"dataframe\">\n",
       "  <thead>\n",
       "    <tr style=\"text-align: right;\">\n",
       "      <th></th>\n",
       "      <th>tikId</th>\n",
       "      <th>uik</th>\n",
       "      <th>voters</th>\n",
       "      <th>allVotes</th>\n",
       "      <th>totalVotes</th>\n",
       "      <th>Європейська_Солідарність</th>\n",
       "    </tr>\n",
       "  </thead>\n",
       "  <tbody>\n",
       "    <tr>\n",
       "      <th>0</th>\n",
       "      <td>11</td>\n",
       "      <td>ВД № 050130</td>\n",
       "      <td>1687</td>\n",
       "      <td>825</td>\n",
       "      <td>798</td>\n",
       "      <td>61</td>\n",
       "    </tr>\n",
       "    <tr>\n",
       "      <th>1</th>\n",
       "      <td>11</td>\n",
       "      <td>ВД № 050131</td>\n",
       "      <td>2106</td>\n",
       "      <td>1013</td>\n",
       "      <td>1005</td>\n",
       "      <td>99</td>\n",
       "    </tr>\n",
       "    <tr>\n",
       "      <th>2</th>\n",
       "      <td>11</td>\n",
       "      <td>ВД № 050132</td>\n",
       "      <td>1281</td>\n",
       "      <td>574</td>\n",
       "      <td>567</td>\n",
       "      <td>47</td>\n",
       "    </tr>\n",
       "    <tr>\n",
       "      <th>3</th>\n",
       "      <td>11</td>\n",
       "      <td>ВД № 050133</td>\n",
       "      <td>2418</td>\n",
       "      <td>1136</td>\n",
       "      <td>1130</td>\n",
       "      <td>111</td>\n",
       "    </tr>\n",
       "    <tr>\n",
       "      <th>4</th>\n",
       "      <td>11</td>\n",
       "      <td>ВД № 050134</td>\n",
       "      <td>233</td>\n",
       "      <td>100</td>\n",
       "      <td>99</td>\n",
       "      <td>7</td>\n",
       "    </tr>\n",
       "  </tbody>\n",
       "</table>\n",
       "</div>"
      ],
      "text/plain": [
       "  tikId          uik  voters  allVotes  totalVotes  Європейська_Солідарність\n",
       "0    11  ВД № 050130    1687       825         798                        61\n",
       "1    11  ВД № 050131    2106      1013        1005                        99\n",
       "2    11  ВД № 050132    1281       574         567                        47\n",
       "3    11  ВД № 050133    2418      1136        1130                       111\n",
       "4    11  ВД № 050134     233       100          99                         7"
      ]
     },
     "execution_count": 13,
     "metadata": {},
     "output_type": "execute_result"
    }
   ],
   "source": [
    "df2.head()"
   ]
  },
  {
   "cell_type": "code",
   "execution_count": 12,
   "metadata": {
    "scrolled": false
   },
   "outputs": [
    {
     "data": {
      "text/html": [
       "<style  type=\"text/css\" >\n",
       "    #T_b3e1259a_b762_11e9_a062_dca90492556arow0_col0 {\n",
       "            background-color:  #b40426;\n",
       "            color:  #f1f1f1;\n",
       "        }    #T_b3e1259a_b762_11e9_a062_dca90492556arow0_col1 {\n",
       "            background-color:  #c6d6f1;\n",
       "            color:  #000000;\n",
       "        }    #T_b3e1259a_b762_11e9_a062_dca90492556arow0_col2 {\n",
       "            background-color:  #c6d6f1;\n",
       "            color:  #000000;\n",
       "        }    #T_b3e1259a_b762_11e9_a062_dca90492556arow0_col3 {\n",
       "            background-color:  #3b4cc0;\n",
       "            color:  #f1f1f1;\n",
       "        }    #T_b3e1259a_b762_11e9_a062_dca90492556arow1_col0 {\n",
       "            background-color:  #edd2c3;\n",
       "            color:  #000000;\n",
       "        }    #T_b3e1259a_b762_11e9_a062_dca90492556arow1_col1 {\n",
       "            background-color:  #b40426;\n",
       "            color:  #f1f1f1;\n",
       "        }    #T_b3e1259a_b762_11e9_a062_dca90492556arow1_col2 {\n",
       "            background-color:  #b40426;\n",
       "            color:  #f1f1f1;\n",
       "        }    #T_b3e1259a_b762_11e9_a062_dca90492556arow1_col3 {\n",
       "            background-color:  #8db0fe;\n",
       "            color:  #000000;\n",
       "        }    #T_b3e1259a_b762_11e9_a062_dca90492556arow2_col0 {\n",
       "            background-color:  #ecd3c5;\n",
       "            color:  #000000;\n",
       "        }    #T_b3e1259a_b762_11e9_a062_dca90492556arow2_col1 {\n",
       "            background-color:  #b40426;\n",
       "            color:  #f1f1f1;\n",
       "        }    #T_b3e1259a_b762_11e9_a062_dca90492556arow2_col2 {\n",
       "            background-color:  #b40426;\n",
       "            color:  #f1f1f1;\n",
       "        }    #T_b3e1259a_b762_11e9_a062_dca90492556arow2_col3 {\n",
       "            background-color:  #8fb1fe;\n",
       "            color:  #000000;\n",
       "        }    #T_b3e1259a_b762_11e9_a062_dca90492556arow3_col0 {\n",
       "            background-color:  #3b4cc0;\n",
       "            color:  #f1f1f1;\n",
       "        }    #T_b3e1259a_b762_11e9_a062_dca90492556arow3_col1 {\n",
       "            background-color:  #3b4cc0;\n",
       "            color:  #f1f1f1;\n",
       "        }    #T_b3e1259a_b762_11e9_a062_dca90492556arow3_col2 {\n",
       "            background-color:  #3b4cc0;\n",
       "            color:  #f1f1f1;\n",
       "        }    #T_b3e1259a_b762_11e9_a062_dca90492556arow3_col3 {\n",
       "            background-color:  #b40426;\n",
       "            color:  #f1f1f1;\n",
       "        }</style><table id=\"T_b3e1259a_b762_11e9_a062_dca90492556a\" ><thead>    <tr>        <th class=\"blank level0\" ></th>        <th class=\"col_heading level0 col0\" >voters</th>        <th class=\"col_heading level0 col1\" >allVotes</th>        <th class=\"col_heading level0 col2\" >totalVotes</th>        <th class=\"col_heading level0 col3\" >Європейська_Солідарність</th>    </tr></thead><tbody>\n",
       "                <tr>\n",
       "                        <th id=\"T_b3e1259a_b762_11e9_a062_dca90492556alevel0_row0\" class=\"row_heading level0 row0\" >voters</th>\n",
       "                        <td id=\"T_b3e1259a_b762_11e9_a062_dca90492556arow0_col0\" class=\"data row0 col0\" >1</td>\n",
       "                        <td id=\"T_b3e1259a_b762_11e9_a062_dca90492556arow0_col1\" class=\"data row0 col1\" >0.825414</td>\n",
       "                        <td id=\"T_b3e1259a_b762_11e9_a062_dca90492556arow0_col2\" class=\"data row0 col2\" >0.825328</td>\n",
       "                        <td id=\"T_b3e1259a_b762_11e9_a062_dca90492556arow0_col3\" class=\"data row0 col3\" >0.597335</td>\n",
       "            </tr>\n",
       "            <tr>\n",
       "                        <th id=\"T_b3e1259a_b762_11e9_a062_dca90492556alevel0_row1\" class=\"row_heading level0 row1\" >allVotes</th>\n",
       "                        <td id=\"T_b3e1259a_b762_11e9_a062_dca90492556arow1_col0\" class=\"data row1 col0\" >0.825414</td>\n",
       "                        <td id=\"T_b3e1259a_b762_11e9_a062_dca90492556arow1_col1\" class=\"data row1 col1\" >1</td>\n",
       "                        <td id=\"T_b3e1259a_b762_11e9_a062_dca90492556arow1_col2\" class=\"data row1 col2\" >0.999889</td>\n",
       "                        <td id=\"T_b3e1259a_b762_11e9_a062_dca90492556arow1_col3\" class=\"data row1 col3\" >0.69806</td>\n",
       "            </tr>\n",
       "            <tr>\n",
       "                        <th id=\"T_b3e1259a_b762_11e9_a062_dca90492556alevel0_row2\" class=\"row_heading level0 row2\" >totalVotes</th>\n",
       "                        <td id=\"T_b3e1259a_b762_11e9_a062_dca90492556arow2_col0\" class=\"data row2 col0\" >0.825328</td>\n",
       "                        <td id=\"T_b3e1259a_b762_11e9_a062_dca90492556arow2_col1\" class=\"data row2 col1\" >0.999889</td>\n",
       "                        <td id=\"T_b3e1259a_b762_11e9_a062_dca90492556arow2_col2\" class=\"data row2 col2\" >1</td>\n",
       "                        <td id=\"T_b3e1259a_b762_11e9_a062_dca90492556arow2_col3\" class=\"data row2 col3\" >0.699777</td>\n",
       "            </tr>\n",
       "            <tr>\n",
       "                        <th id=\"T_b3e1259a_b762_11e9_a062_dca90492556alevel0_row3\" class=\"row_heading level0 row3\" >Європейська_Солідарність</th>\n",
       "                        <td id=\"T_b3e1259a_b762_11e9_a062_dca90492556arow3_col0\" class=\"data row3 col0\" >0.597335</td>\n",
       "                        <td id=\"T_b3e1259a_b762_11e9_a062_dca90492556arow3_col1\" class=\"data row3 col1\" >0.69806</td>\n",
       "                        <td id=\"T_b3e1259a_b762_11e9_a062_dca90492556arow3_col2\" class=\"data row3 col2\" >0.699777</td>\n",
       "                        <td id=\"T_b3e1259a_b762_11e9_a062_dca90492556arow3_col3\" class=\"data row3 col3\" >1</td>\n",
       "            </tr>\n",
       "    </tbody></table>"
      ],
      "text/plain": [
       "<pandas.io.formats.style.Styler at 0x11ebc89b0>"
      ]
     },
     "execution_count": 12,
     "metadata": {},
     "output_type": "execute_result"
    }
   ],
   "source": [
    "corr = df2.corr()\n",
    "corr.style.background_gradient(cmap='coolwarm')"
   ]
  },
  {
   "cell_type": "code",
   "execution_count": 8,
   "metadata": {},
   "outputs": [],
   "source": [
    "import pandas_profiling\n",
    "\n",
    "def get_profiling(df, output_name):\n",
    "    profile = pandas_profiling.ProfileReport(df=df)\n",
    "    profile.to_file(output_name)"
   ]
  },
  {
   "cell_type": "code",
   "execution_count": 9,
   "metadata": {},
   "outputs": [],
   "source": [
    "get_profiling(df2, \"parl_votes.html\")"
   ]
  },
  {
   "cell_type": "code",
   "execution_count": null,
   "metadata": {},
   "outputs": [],
   "source": []
  }
 ],
 "metadata": {
  "kernelspec": {
   "display_name": "PyCharm (summer-19)",
   "language": "python",
   "name": "pycharm-ad3f6583"
  },
  "language_info": {
   "codemirror_mode": {
    "name": "ipython",
    "version": 3
   },
   "file_extension": ".py",
   "mimetype": "text/x-python",
   "name": "python",
   "nbconvert_exporter": "python",
   "pygments_lexer": "ipython3",
   "version": "3.7.3"
  },
  "pycharm": {
   "stem_cell": {
    "cell_type": "raw",
    "metadata": {
     "collapsed": false
    },
    "source": []
   }
  }
 },
 "nbformat": 4,
 "nbformat_minor": 1
}
